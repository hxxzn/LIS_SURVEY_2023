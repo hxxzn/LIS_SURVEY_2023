{
  "nbformat": 4,
  "nbformat_minor": 0,
  "metadata": {
    "colab": {
      "provenance": [],
      "toc_visible": true
    },
    "kernelspec": {
      "name": "python3",
      "display_name": "Python 3"
    },
    "language_info": {
      "name": "python"
    }
  },
  "cells": [
    {
      "cell_type": "markdown",
      "source": [
        "# 0️⃣ **Module Import**"
      ],
      "metadata": {
        "id": "6pSMAx_ot-WR"
      }
    },
    {
      "cell_type": "markdown",
      "source": [
        "#  1️⃣ **전처리**\n"
      ],
      "metadata": {
        "id": "1NxS2aLpuSFX"
      }
    },
    {
      "cell_type": "markdown",
      "source": [
        "## 1) 파일 불러오기"
      ],
      "metadata": {
        "id": "RU9EDiS3vKrp"
      }
    },
    {
      "cell_type": "markdown",
      "source": [
        "## 2) 컬럼 정리"
      ],
      "metadata": {
        "id": "9cJCxXrJvo91"
      }
    },
    {
      "cell_type": "markdown",
      "source": [
        "## 3) 응답자별 데이터프레임 생성\n"
      ],
      "metadata": {
        "id": "cVlVLc6hvx63"
      }
    },
    {
      "cell_type": "markdown",
      "source": [
        "## 4) 공통함수 지정"
      ],
      "metadata": {
        "id": "Jr52ScPHwYYA"
      }
    },
    {
      "cell_type": "markdown",
      "source": [
        "# 2️⃣ **참여자 정보**"
      ],
      "metadata": {
        "id": "4RDdWGTqup0h"
      }
    },
    {
      "cell_type": "markdown",
      "source": [
        "# 3️⃣ **결과 분석**"
      ],
      "metadata": {
        "id": "ZB-z8Tc3ux2C"
      }
    },
    {
      "cell_type": "markdown",
      "source": [
        "## 1) 재학생 개별 문항 분석"
      ],
      "metadata": {
        "id": "D_QPwkiDxBV5"
      }
    },
    {
      "cell_type": "markdown",
      "source": [
        "## 2) 학과 관련 분석"
      ],
      "metadata": {
        "id": "YmHqCt5vxMap"
      }
    },
    {
      "cell_type": "markdown",
      "source": [
        "## 3) 취업 관련 분석"
      ],
      "metadata": {
        "id": "DqP0SdHjxVWx"
      }
    },
    {
      "cell_type": "markdown",
      "source": [
        "## 4) 대학원 관련 분석"
      ],
      "metadata": {
        "id": "T9Hj2xipxewa"
      }
    },
    {
      "cell_type": "markdown",
      "source": [
        "# 4️⃣ **세부 분석**"
      ],
      "metadata": {
        "id": "-AolyDVtwlUa"
      }
    },
    {
      "cell_type": "code",
      "execution_count": null,
      "metadata": {
        "id": "xmpEbJSYtP9t"
      },
      "outputs": [],
      "source": []
    }
  ]
}